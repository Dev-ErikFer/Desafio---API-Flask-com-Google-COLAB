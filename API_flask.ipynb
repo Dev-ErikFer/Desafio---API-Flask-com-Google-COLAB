{
  "cells": [
    {
      "cell_type": "code",
      "execution_count": 2,
      "metadata": {
        "id": "vaTkcXQ_igjc"
      },
      "outputs": [
        {
          "name": "stdout",
          "output_type": "stream",
          "text": [
            "Requirement already satisfied: flask_ngrok in c:\\users\\kr1ck\\appdata\\local\\programs\\python\\python312\\lib\\site-packages (0.0.25)\n",
            "Requirement already satisfied: Flask>=0.8 in c:\\users\\kr1ck\\appdata\\local\\programs\\python\\python312\\lib\\site-packages (from flask_ngrok) (3.0.3)\n",
            "Requirement already satisfied: requests in c:\\users\\kr1ck\\appdata\\local\\programs\\python\\python312\\lib\\site-packages (from flask_ngrok) (2.31.0)\n",
            "Requirement already satisfied: Werkzeug>=3.0.0 in c:\\users\\kr1ck\\appdata\\local\\programs\\python\\python312\\lib\\site-packages (from Flask>=0.8->flask_ngrok) (3.0.3)\n",
            "Requirement already satisfied: Jinja2>=3.1.2 in c:\\users\\kr1ck\\appdata\\local\\programs\\python\\python312\\lib\\site-packages (from Flask>=0.8->flask_ngrok) (3.1.4)\n",
            "Requirement already satisfied: itsdangerous>=2.1.2 in c:\\users\\kr1ck\\appdata\\local\\programs\\python\\python312\\lib\\site-packages (from Flask>=0.8->flask_ngrok) (2.2.0)\n",
            "Requirement already satisfied: click>=8.1.3 in c:\\users\\kr1ck\\appdata\\local\\programs\\python\\python312\\lib\\site-packages (from Flask>=0.8->flask_ngrok) (8.1.7)\n",
            "Requirement already satisfied: blinker>=1.6.2 in c:\\users\\kr1ck\\appdata\\local\\programs\\python\\python312\\lib\\site-packages (from Flask>=0.8->flask_ngrok) (1.8.2)\n",
            "Requirement already satisfied: charset-normalizer<4,>=2 in c:\\users\\kr1ck\\appdata\\local\\programs\\python\\python312\\lib\\site-packages (from requests->flask_ngrok) (3.3.2)\n",
            "Requirement already satisfied: idna<4,>=2.5 in c:\\users\\kr1ck\\appdata\\local\\programs\\python\\python312\\lib\\site-packages (from requests->flask_ngrok) (3.7)\n",
            "Requirement already satisfied: urllib3<3,>=1.21.1 in c:\\users\\kr1ck\\appdata\\local\\programs\\python\\python312\\lib\\site-packages (from requests->flask_ngrok) (2.2.1)\n",
            "Requirement already satisfied: certifi>=2017.4.17 in c:\\users\\kr1ck\\appdata\\local\\programs\\python\\python312\\lib\\site-packages (from requests->flask_ngrok) (2024.2.2)\n",
            "Requirement already satisfied: colorama in c:\\users\\kr1ck\\appdata\\roaming\\python\\python312\\site-packages (from click>=8.1.3->Flask>=0.8->flask_ngrok) (0.4.6)\n",
            "Requirement already satisfied: MarkupSafe>=2.0 in c:\\users\\kr1ck\\appdata\\local\\programs\\python\\python312\\lib\\site-packages (from Jinja2>=3.1.2->Flask>=0.8->flask_ngrok) (2.1.5)\n"
          ]
        },
        {
          "name": "stderr",
          "output_type": "stream",
          "text": [
            "\n",
            "[notice] A new release of pip is available: 23.2.1 -> 24.0\n",
            "[notice] To update, run: python.exe -m pip install --upgrade pip\n"
          ]
        },
        {
          "name": "stdout",
          "output_type": "stream",
          "text": [
            "Requirement already satisfied: flask in c:\\users\\kr1ck\\appdata\\local\\programs\\python\\python312\\lib\\site-packages (3.0.3)\n",
            "Requirement already satisfied: Werkzeug>=3.0.0 in c:\\users\\kr1ck\\appdata\\local\\programs\\python\\python312\\lib\\site-packages (from flask) (3.0.3)\n",
            "Requirement already satisfied: Jinja2>=3.1.2 in c:\\users\\kr1ck\\appdata\\local\\programs\\python\\python312\\lib\\site-packages (from flask) (3.1.4)\n",
            "Requirement already satisfied: itsdangerous>=2.1.2 in c:\\users\\kr1ck\\appdata\\local\\programs\\python\\python312\\lib\\site-packages (from flask) (2.2.0)\n",
            "Requirement already satisfied: click>=8.1.3 in c:\\users\\kr1ck\\appdata\\local\\programs\\python\\python312\\lib\\site-packages (from flask) (8.1.7)\n",
            "Requirement already satisfied: blinker>=1.6.2 in c:\\users\\kr1ck\\appdata\\local\\programs\\python\\python312\\lib\\site-packages (from flask) (1.8.2)\n",
            "Requirement already satisfied: colorama in c:\\users\\kr1ck\\appdata\\roaming\\python\\python312\\site-packages (from click>=8.1.3->flask) (0.4.6)\n",
            "Requirement already satisfied: MarkupSafe>=2.0 in c:\\users\\kr1ck\\appdata\\local\\programs\\python\\python312\\lib\\site-packages (from Jinja2>=3.1.2->flask) (2.1.5)\n"
          ]
        },
        {
          "name": "stderr",
          "output_type": "stream",
          "text": [
            "\n",
            "[notice] A new release of pip is available: 23.2.1 -> 24.0\n",
            "[notice] To update, run: python.exe -m pip install --upgrade pip\n"
          ]
        }
      ],
      "source": [
        "!pip install flask_ngrok\n",
        "!pip install flask "
      ]
    },
    {
      "cell_type": "code",
      "execution_count": 3,
      "metadata": {
        "id": "CS_uq48Li7o8"
      },
      "outputs": [
        {
          "ename": "ModuleNotFoundError",
          "evalue": "No module named 'pandas'",
          "output_type": "error",
          "traceback": [
            "\u001b[1;31m---------------------------------------------------------------------------\u001b[0m",
            "\u001b[1;31mModuleNotFoundError\u001b[0m                       Traceback (most recent call last)",
            "Cell \u001b[1;32mIn[3], line 1\u001b[0m\n\u001b[1;32m----> 1\u001b[0m \u001b[38;5;28;01mimport\u001b[39;00m \u001b[38;5;21;01mpandas\u001b[39;00m \u001b[38;5;28;01mas\u001b[39;00m \u001b[38;5;21;01mpd\u001b[39;00m\n\u001b[0;32m      2\u001b[0m \u001b[38;5;28;01mfrom\u001b[39;00m \u001b[38;5;21;01mflask_ngrok\u001b[39;00m \u001b[38;5;28;01mimport\u001b[39;00m run_with_ngrok\n\u001b[0;32m      3\u001b[0m \u001b[38;5;28;01mfrom\u001b[39;00m \u001b[38;5;21;01mflask\u001b[39;00m \u001b[38;5;28;01mimport\u001b[39;00m (\n\u001b[0;32m      4\u001b[0m     request, jsonify, Flask\n\u001b[0;32m      5\u001b[0m )\n",
            "\u001b[1;31mModuleNotFoundError\u001b[0m: No module named 'pandas'"
          ]
        }
      ],
      "source": [
        "import pandas as pd\n",
        "from flask_ngrok import run_with_ngrok\n",
        "from flask import (\n",
        "    request, jsonify, Flask\n",
        ")\n",
        "import random as rk"
      ]
    },
    {
      "cell_type": "code",
      "execution_count": 4,
      "metadata": {
        "id": "LjtKQEKHjXvF"
      },
      "outputs": [
        {
          "ename": "NameError",
          "evalue": "name 'Flask' is not defined",
          "output_type": "error",
          "traceback": [
            "\u001b[1;31m---------------------------------------------------------------------------\u001b[0m",
            "\u001b[1;31mNameError\u001b[0m                                 Traceback (most recent call last)",
            "Cell \u001b[1;32mIn[4], line 1\u001b[0m\n\u001b[1;32m----> 1\u001b[0m app \u001b[38;5;241m=\u001b[39m \u001b[43mFlask\u001b[49m(\u001b[38;5;18m__name__\u001b[39m)\n\u001b[0;32m      2\u001b[0m run_with_ngrok(app)\n",
            "\u001b[1;31mNameError\u001b[0m: name 'Flask' is not defined"
          ]
        }
      ],
      "source": [
        "app = Flask(__name__)\n",
        "run_with_ngrok(app)"
      ]
    },
    {
      "cell_type": "code",
      "execution_count": 5,
      "metadata": {
        "id": "oV49N-hpjdlk"
      },
      "outputs": [],
      "source": [
        "json = [{\n",
        "    \"nome\": \"Erik Fernando\",\n",
        "    \"cpf\": \"123456\",\n",
        "    \"idade\": 24,\n",
        "    \"cidade\": \"Rio de Janeiro\",\n",
        "    \"estado\": \"RJ\"\n",
        "}, {\n",
        "    \"nome\": \"Andressa Lopes\",\n",
        "    \"cpf\": \"564231\",\n",
        "    \"idade\": 31,\n",
        "    \"cidade\": \"Belém\",\n",
        "    \"estado\": \"PA\"\n",
        "}, {\n",
        "    \"nome\": \"Vinicius Augusto\",\n",
        "    \"cpf\": \"654321\",\n",
        "    \"idade\": 23,\n",
        "    \"cidade\": \"Salvador\",\n",
        "    \"estado\": \"BA\"\n",
        "}, {\n",
        "    \"nome\": \"Nelson Pereira\",\n",
        "    \"cpf\": \"456342\",\n",
        "    \"idade\": 33,\n",
        "    \"cidade\": \"São Paulo\",\n",
        "    \"estado\": \"SP\"\n",
        "}]"
      ]
    },
    {
      "cell_type": "code",
      "execution_count": 14,
      "metadata": {
        "id": "5J961Qg8k0_9"
      },
      "outputs": [],
      "source": [
        "@app.route(\"/\")\n",
        "\n",
        "def index():\n",
        "    return \"<marquee><h3> TO CHECK IN PUT ADD '/input' TO THE URL AND TO CHECK OUT PUT ADD '/output' TO THE URL.</h3></marquee>\""
      ]
    },
    {
      "cell_type": "code",
      "execution_count": 17,
      "metadata": {
        "id": "u0lV8w9SltJ2"
      },
      "outputs": [],
      "source": [
        "@app.route(\"/input\")\n",
        "\n",
        "def input_json():\n",
        "  return jsonify(json)"
      ]
    },
    {
      "cell_type": "code",
      "execution_count": null,
      "metadata": {
        "id": "T48-HikymB4_"
      },
      "outputs": [],
      "source": [
        "@app.route('/output', methods=['GET','POST'])\n",
        "\n",
        "def pred_json():\n",
        " pred = rk.choice([\"positive\",\"negative\"])\n",
        " nd = json\n",
        " nd[\"prediction\"]=pred\n",
        " return jsonify(nd)"
      ]
    },
    {
      "cell_type": "code",
      "execution_count": null,
      "metadata": {
        "colab": {
          "base_uri": "https://localhost:8080/"
        },
        "id": "Y782FhCWngu-",
        "outputId": "3cd701a2-d73c-4caf-87e5-04c6caa2ca34"
      },
      "outputs": [
        {
          "name": "stdout",
          "output_type": "stream",
          "text": [
            " * Serving Flask app \"__main__\" (lazy loading)\n",
            " * Environment: production\n",
            "\u001b[31m   WARNING: This is a development server. Do not use it in a production deployment.\u001b[0m\n",
            "\u001b[2m   Use a production WSGI server instead.\u001b[0m\n",
            " * Debug mode: off\n"
          ]
        },
        {
          "name": "stderr",
          "output_type": "stream",
          "text": [
            "INFO:werkzeug: * Running on http://127.0.0.1:5000/ (Press CTRL+C to quit)\n"
          ]
        },
        {
          "name": "stdout",
          "output_type": "stream",
          "text": [
            " * Running on http://f5b0-35-245-193-228.ngrok.io\n",
            " * Traffic stats available on http://127.0.0.1:4040\n"
          ]
        },
        {
          "name": "stderr",
          "output_type": "stream",
          "text": [
            "INFO:werkzeug:127.0.0.1 - - [26/Oct/2022 23:26:20] \"\u001b[37mGET /input HTTP/1.1\u001b[0m\" 200 -\n",
            "INFO:werkzeug:127.0.0.1 - - [26/Oct/2022 23:26:20] \"\u001b[33mGET /favicon.ico HTTP/1.1\u001b[0m\" 404 -\n",
            "ERROR:__main__:Exception on /output [GET]\n",
            "Traceback (most recent call last):\n",
            "  File \"/usr/local/lib/python3.7/dist-packages/flask/app.py\", line 2447, in wsgi_app\n",
            "    response = self.full_dispatch_request()\n",
            "  File \"/usr/local/lib/python3.7/dist-packages/flask/app.py\", line 1952, in full_dispatch_request\n",
            "    rv = self.handle_user_exception(e)\n",
            "  File \"/usr/local/lib/python3.7/dist-packages/flask/app.py\", line 1821, in handle_user_exception\n",
            "    reraise(exc_type, exc_value, tb)\n",
            "  File \"/usr/local/lib/python3.7/dist-packages/flask/_compat.py\", line 39, in reraise\n",
            "    raise value\n",
            "  File \"/usr/local/lib/python3.7/dist-packages/flask/app.py\", line 1950, in full_dispatch_request\n",
            "    rv = self.dispatch_request()\n",
            "  File \"/usr/local/lib/python3.7/dist-packages/flask/app.py\", line 1936, in dispatch_request\n",
            "    return self.view_functions[rule.endpoint](**req.view_args)\n",
            "  File \"<ipython-input-10-d910439dd91b>\", line 6, in predJson\n",
            "    nd[\"prediction\"]=pred\n",
            "TypeError: list indices must be integers or slices, not str\n",
            "INFO:werkzeug:127.0.0.1 - - [26/Oct/2022 23:26:25] \"\u001b[35m\u001b[1mGET /output HTTP/1.1\u001b[0m\" 500 -\n",
            "INFO:werkzeug:127.0.0.1 - - [26/Oct/2022 23:26:25] \"\u001b[33mGET /favicon.ico HTTP/1.1\u001b[0m\" 404 -\n",
            "INFO:werkzeug:127.0.0.1 - - [26/Oct/2022 23:27:11] \"\u001b[37mGET / HTTP/1.1\u001b[0m\" 200 -\n",
            "INFO:werkzeug:127.0.0.1 - - [26/Oct/2022 23:27:11] \"\u001b[33mGET /favicon.ico HTTP/1.1\u001b[0m\" 404 -\n"
          ]
        }
      ],
      "source": [
        "app.run()"
      ]
    }
  ],
  "metadata": {
    "colab": {
      "provenance": []
    },
    "kernelspec": {
      "display_name": "Python 3.10.8 64-bit (microsoft store)",
      "language": "python",
      "name": "python3"
    },
    "language_info": {
      "codemirror_mode": {
        "name": "ipython",
        "version": 3
      },
      "file_extension": ".py",
      "mimetype": "text/x-python",
      "name": "python",
      "nbconvert_exporter": "python",
      "pygments_lexer": "ipython3",
      "version": "3.12.0"
    },
    "vscode": {
      "interpreter": {
        "hash": "6ed0eda7d075e1f39d97956a04b30b3d8810a3670f1b5ea4d85222d58a842900"
      }
    }
  },
  "nbformat": 4,
  "nbformat_minor": 0
}
